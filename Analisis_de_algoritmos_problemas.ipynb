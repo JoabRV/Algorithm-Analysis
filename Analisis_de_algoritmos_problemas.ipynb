{
  "nbformat": 4,
  "nbformat_minor": 0,
  "metadata": {
    "colab": {
      "provenance": [],
      "authorship_tag": "ABX9TyM8MUHXef+NjjNjEJAieTyE",
      "include_colab_link": true
    },
    "kernelspec": {
      "name": "python3",
      "display_name": "Python 3"
    },
    "language_info": {
      "name": "python"
    }
  },
  "cells": [
    {
      "cell_type": "markdown",
      "metadata": {
        "id": "view-in-github",
        "colab_type": "text"
      },
      "source": [
        "<a href=\"https://colab.research.google.com/github/Joabravi/Algorithm-Analysis/blob/main/Analisis_de_algoritmos_problemas.ipynb\" target=\"_parent\"><img src=\"https://colab.research.google.com/assets/colab-badge.svg\" alt=\"Open In Colab\"/></a>"
      ]
    },
    {
      "cell_type": "markdown",
      "source": [
        "¡Por supuesto! Aquí tienes una breve explicación de cada uno de los problemas y algoritmos que mencionaste:\n",
        "\n",
        "1. **The Word Ladder Problem (Problema de la escalera de palabras)**:\n",
        "   El problema de la escalera de palabras implica transformar una palabra en otra, cambiando solo una letra a la vez y asegurándose de que cada paso resulte en una palabra válida en el diccionario. El objetivo es encontrar la ruta más corta (la \"escalera\") entre una palabra inicial y una palabra objetivo, utilizando solo palabras válidas como peldaños en la escalera.\n",
        "\n",
        "2. **The Knight's Tour Problem (Problema del recorrido del caballo)**:\n",
        "   En este problema, se plantea el desafío de mover un caballo de ajedrez a través de un tablero de ajedrez sin pisar ninguna casilla más de una vez, siguiendo las reglas de movimiento del caballo. El objetivo es encontrar un recorrido que cubra todas las casillas del tablero.\n",
        "\n",
        "3. **Prim's Spanning Tree Problem (Problema del árbol de expansión de Prim)**:\n",
        "   Dado un grafo ponderado no dirigido, el objetivo del algoritmo de Prim es encontrar un árbol de expansión mínimo que conecte todos los vértices del grafo. En otras palabras, se busca un subconjunto de aristas que forme un árbol y tenga el peso total más bajo posible.\n",
        "\n",
        "4. **Ford-Fulkerson Algorithm (Algoritmo de Ford-Fulkerson)**:\n",
        "   Este algoritmo se utiliza para encontrar el flujo máximo en una red de flujo. Consiste en encontrar caminos de aumento en la red residual y aumentar el flujo a lo largo de estos caminos hasta que no sea posible encontrar más caminos de aumento. El flujo máximo representa la cantidad máxima de elementos (como datos, líquidos, etc.) que pueden pasar a través de la red de manera eficiente.\n",
        "\n",
        "5. **Bellman-Ford Algorithm (Algoritmo de Bellman-Ford)**:\n",
        "   Este algoritmo se utiliza para encontrar los caminos más cortos desde un vértice de origen a todos los demás vértices en un grafo ponderado dirigido o no dirigido, incluso cuando existen aristas con pesos negativos. Puede manejar grafos con ciclos negativos detectando ciclos que reduzcan los costos infinitamente y, por lo tanto, identificando problemas de \"camino más corto indefinido\".\n",
        "\n",
        "6. **Maxflow-Mincut (Flujo máximo - Corte mínimo)**:\n",
        "   Maxflow-Mincut es un concepto que se refiere a la relación entre el flujo máximo en una red de flujo y el corte mínimo en el mismo grafo. Un corte mínimo divide los vértices en dos conjuntos y se asocia con un flujo máximo que cruza ese corte. El teorema de flujo máximo - corte mínimo establece que el valor del flujo máximo en una red es igual al valor del corte mínimo en el mismo grafo.\n",
        "\n",
        "Cada uno de estos problemas y algoritmos es un concepto interesante y fundamental en la teoría de grafos y la optimización. Cada uno aborda desafíos específicos y tiene aplicaciones en diversas áreas de la informática y la ingeniería."
      ],
      "metadata": {
        "id": "5Mp5fV7IF_C5"
      }
    },
    {
      "cell_type": "markdown",
      "source": [
        "The Word Ladder Problem:"
      ],
      "metadata": {
        "id": "v4DCc4UPFSmI"
      }
    },
    {
      "cell_type": "code",
      "execution_count": 1,
      "metadata": {
        "colab": {
          "base_uri": "https://localhost:8080/"
        },
        "id": "2q9ffrw3FOBY",
        "outputId": "1b2a4e14-7141-40c4-f51b-696deea4d1e6"
      },
      "outputs": [
        {
          "output_type": "stream",
          "name": "stdout",
          "text": [
            "5\n"
          ]
        }
      ],
      "source": [
        "from collections import deque\n",
        "\n",
        "def word_ladder(begin_word, end_word, word_list):\n",
        "    word_list = set(word_list)\n",
        "    queue = deque([(begin_word, 1)])\n",
        "\n",
        "    while queue:\n",
        "        current_word, level = queue.popleft()\n",
        "\n",
        "        if current_word == end_word:\n",
        "            return level\n",
        "\n",
        "        for i in range(len(current_word)):\n",
        "            for char in 'abcdefghijklmnopqrstuvwxyz':\n",
        "                next_word = current_word[:i] + char + current_word[i+1:]\n",
        "                if next_word in word_list:\n",
        "                    word_list.remove(next_word)\n",
        "                    queue.append((next_word, level + 1))\n",
        "\n",
        "    return 0\n",
        "\n",
        "begin_word = \"hit\"\n",
        "end_word = \"cog\"\n",
        "word_list = [\"hot\", \"dot\", \"dog\", \"lot\", \"log\", \"cog\"]\n",
        "print(word_ladder(begin_word, end_word, word_list))\n"
      ]
    },
    {
      "cell_type": "markdown",
      "source": [
        "The Knight's Tour Problem:"
      ],
      "metadata": {
        "id": "BkYssEJgFXt6"
      }
    },
    {
      "cell_type": "code",
      "source": [
        "def is_valid_move(x, y, board, N):\n",
        "    return 0 <= x < N and 0 <= y < N and board[x][y] == -1\n",
        "\n",
        "def knight_tour(N):\n",
        "    board = [[-1 for _ in range(N)] for _ in range(N)]\n",
        "    moves = [(2, 1), (1, 2), (-1, 2), (-2, 1), (-2, -1), (-1, -2), (1, -2), (2, -1)]\n",
        "    board[0][0] = 0\n",
        "\n",
        "    def solve_tour(x, y, move_count):\n",
        "        if move_count == N * N - 1:\n",
        "            return True\n",
        "\n",
        "        for dx, dy in moves:\n",
        "            next_x, next_y = x + dx, y + dy\n",
        "            if is_valid_move(next_x, next_y, board, N):\n",
        "                board[next_x][next_y] = move_count\n",
        "                if solve_tour(next_x, next_y, move_count + 1):\n",
        "                    return True\n",
        "                board[next_x][next_y] = -1\n",
        "\n",
        "        return False\n",
        "\n",
        "    if solve_tour(0, 0, 1):\n",
        "        for row in board:\n",
        "            print(row)\n",
        "    else:\n",
        "        print(\"No solution exists.\")\n",
        "\n",
        "knight_tour(8)\n"
      ],
      "metadata": {
        "colab": {
          "base_uri": "https://localhost:8080/"
        },
        "id": "fIXd6RwuFbIP",
        "outputId": "3f4a908d-7f08-41a4-a738-737fa51dd4f6"
      },
      "execution_count": 2,
      "outputs": [
        {
          "output_type": "stream",
          "name": "stdout",
          "text": [
            "[0, 37, 54, 33, 30, 17, 8, -1]\n",
            "[55, 50, 31, 36, 9, 34, 29, 16]\n",
            "[38, 1, 48, 53, 32, 27, 18, 7]\n",
            "[49, 56, 51, 26, 35, 10, 15, 28]\n",
            "[62, 39, 2, 47, 52, 23, 6, 19]\n",
            "[57, 46, 59, 42, 25, 20, 11, 14]\n",
            "[40, 61, 44, 3, 22, 13, 24, 5]\n",
            "[45, 58, 41, 60, 43, 4, 21, 12]\n"
          ]
        }
      ]
    },
    {
      "cell_type": "markdown",
      "source": [
        "Prim's Spanning Tree Problem:"
      ],
      "metadata": {
        "id": "TEfTw-A7FosE"
      }
    },
    {
      "cell_type": "code",
      "source": [
        "import heapq\n",
        "\n",
        "def prim_spanning_tree(graph):\n",
        "    N = len(graph)\n",
        "    visited = [False] * N\n",
        "    min_heap = [(0, 0)]  # (peso, vértice)\n",
        "    spanning_tree = []\n",
        "\n",
        "    while min_heap:\n",
        "        weight, vertex = heapq.heappop(min_heap)\n",
        "        if visited[vertex]:\n",
        "            continue\n",
        "\n",
        "        visited[vertex] = True\n",
        "        if spanning_tree:\n",
        "            spanning_tree.append((vertex, vertex_parent))\n",
        "        vertex_parent = vertex\n",
        "\n",
        "        for neighbor, weight in graph[vertex]:\n",
        "            if not visited[neighbor]:\n",
        "                heapq.heappush(min_heap, (weight, neighbor))\n",
        "\n",
        "    return spanning_tree\n",
        "\n",
        "graph = {\n",
        "    0: [(1, 2), (2, 3)],\n",
        "    1: [(0, 2), (2, 4)],\n",
        "    2: [(0, 3), (1, 4)],\n",
        "}\n",
        "print(prim_spanning_tree(graph))\n"
      ],
      "metadata": {
        "colab": {
          "base_uri": "https://localhost:8080/"
        },
        "id": "Yg_dp7tfFpTu",
        "outputId": "dfeac05d-2953-4c18-8999-1b612a5a0db8"
      },
      "execution_count": 3,
      "outputs": [
        {
          "output_type": "stream",
          "name": "stdout",
          "text": [
            "[]\n"
          ]
        }
      ]
    },
    {
      "cell_type": "markdown",
      "source": [
        "Ford-Fulkerson Algorithm:"
      ],
      "metadata": {
        "id": "O3IZ--ieFxep"
      }
    },
    {
      "cell_type": "code",
      "source": [
        "def ford_fulkerson(graph, source, sink):\n",
        "    def bfs(graph, parent):\n",
        "        visited = [False] * len(graph)\n",
        "        queue = [source]\n",
        "        visited[source] = True\n",
        "\n",
        "        while queue:\n",
        "            vertex = queue.pop(0)\n",
        "            for neighbor, capacity in graph[vertex].items():\n",
        "                if not visited[neighbor] and capacity > 0:\n",
        "                    queue.append(neighbor)\n",
        "                    visited[neighbor] = True\n",
        "                    parent[neighbor] = vertex\n",
        "\n",
        "        return visited[sink]\n",
        "\n",
        "    max_flow = 0\n",
        "    parent = [-1] * len(graph)\n",
        "\n",
        "    while bfs(graph, parent):\n",
        "        path_flow = float('inf')\n",
        "        s = sink\n",
        "        while s != source:\n",
        "            path_flow = min(path_flow, graph[parent[s]][s])\n",
        "            s = parent[s]\n",
        "\n",
        "        max_flow += path_flow\n",
        "        v = sink\n",
        "        while v != source:\n",
        "            u = parent[v]\n",
        "            graph[u][v] -= path_flow\n",
        "            graph[v][u] += path_flow\n",
        "            v = parent[v]\n",
        "\n",
        "    return max_flow\n",
        "\n",
        "graph = {\n",
        "    0: {1: 10, 2: 5},\n",
        "    1: {2: 15, 3: 10},\n",
        "    2: {3: 5},\n",
        "    3: {},\n",
        "}\n",
        "source, sink = 0, 3\n",
        "print(ford_fulkerson(graph, source, sink))\n"
      ],
      "metadata": {
        "colab": {
          "base_uri": "https://localhost:8080/",
          "height": 331
        },
        "id": "c9_kwWCpFyDD",
        "outputId": "6ecbdbf2-296d-497e-c82d-ce3269ba0b35"
      },
      "execution_count": 5,
      "outputs": [
        {
          "output_type": "error",
          "ename": "KeyError",
          "evalue": "ignored",
          "traceback": [
            "\u001b[0;31m---------------------------------------------------------------------------\u001b[0m",
            "\u001b[0;31mKeyError\u001b[0m                                  Traceback (most recent call last)",
            "\u001b[0;32m<ipython-input-5-42ba4095c75a>\u001b[0m in \u001b[0;36m<cell line: 44>\u001b[0;34m()\u001b[0m\n\u001b[1;32m     42\u001b[0m }\n\u001b[1;32m     43\u001b[0m \u001b[0msource\u001b[0m\u001b[0;34m,\u001b[0m \u001b[0msink\u001b[0m \u001b[0;34m=\u001b[0m \u001b[0;36m0\u001b[0m\u001b[0;34m,\u001b[0m \u001b[0;36m3\u001b[0m\u001b[0;34m\u001b[0m\u001b[0;34m\u001b[0m\u001b[0m\n\u001b[0;32m---> 44\u001b[0;31m \u001b[0mprint\u001b[0m\u001b[0;34m(\u001b[0m\u001b[0mford_fulkerson\u001b[0m\u001b[0;34m(\u001b[0m\u001b[0mgraph\u001b[0m\u001b[0;34m,\u001b[0m \u001b[0msource\u001b[0m\u001b[0;34m,\u001b[0m \u001b[0msink\u001b[0m\u001b[0;34m)\u001b[0m\u001b[0;34m)\u001b[0m\u001b[0;34m\u001b[0m\u001b[0;34m\u001b[0m\u001b[0m\n\u001b[0m",
            "\u001b[0;32m<ipython-input-5-42ba4095c75a>\u001b[0m in \u001b[0;36mford_fulkerson\u001b[0;34m(graph, source, sink)\u001b[0m\n\u001b[1;32m     30\u001b[0m             \u001b[0mu\u001b[0m \u001b[0;34m=\u001b[0m \u001b[0mparent\u001b[0m\u001b[0;34m[\u001b[0m\u001b[0mv\u001b[0m\u001b[0;34m]\u001b[0m\u001b[0;34m\u001b[0m\u001b[0;34m\u001b[0m\u001b[0m\n\u001b[1;32m     31\u001b[0m             \u001b[0mgraph\u001b[0m\u001b[0;34m[\u001b[0m\u001b[0mu\u001b[0m\u001b[0;34m]\u001b[0m\u001b[0;34m[\u001b[0m\u001b[0mv\u001b[0m\u001b[0;34m]\u001b[0m \u001b[0;34m-=\u001b[0m \u001b[0mpath_flow\u001b[0m\u001b[0;34m\u001b[0m\u001b[0;34m\u001b[0m\u001b[0m\n\u001b[0;32m---> 32\u001b[0;31m             \u001b[0mgraph\u001b[0m\u001b[0;34m[\u001b[0m\u001b[0mv\u001b[0m\u001b[0;34m]\u001b[0m\u001b[0;34m[\u001b[0m\u001b[0mu\u001b[0m\u001b[0;34m]\u001b[0m \u001b[0;34m+=\u001b[0m \u001b[0mpath_flow\u001b[0m\u001b[0;34m\u001b[0m\u001b[0;34m\u001b[0m\u001b[0m\n\u001b[0m\u001b[1;32m     33\u001b[0m             \u001b[0mv\u001b[0m \u001b[0;34m=\u001b[0m \u001b[0mparent\u001b[0m\u001b[0;34m[\u001b[0m\u001b[0mv\u001b[0m\u001b[0;34m]\u001b[0m\u001b[0;34m\u001b[0m\u001b[0;34m\u001b[0m\u001b[0m\n\u001b[1;32m     34\u001b[0m \u001b[0;34m\u001b[0m\u001b[0m\n",
            "\u001b[0;31mKeyError\u001b[0m: 1"
          ]
        }
      ]
    },
    {
      "cell_type": "markdown",
      "source": [
        "Bellman-Ford Algorithm:"
      ],
      "metadata": {
        "id": "13OvSRlYF2g0"
      }
    },
    {
      "cell_type": "code",
      "source": [
        "def bellman_ford(graph, source):\n",
        "    N = len(graph)\n",
        "    distances = [float('inf')] * N\n",
        "    distances[source] = 0\n",
        "\n",
        "    for _ in range(N - 1):\n",
        "        for u in range(N):\n",
        "            for v, weight in graph[u]:\n",
        "                if distances[u] + weight < distances[v]:\n",
        "                    distances[v] = distances[u] + weight\n",
        "\n",
        "    for u in range(N):\n",
        "        for v, weight in graph[u]:\n",
        "            if distances[u] + weight < distances[v]:\n",
        "                return \"Negative cycle detected.\"\n",
        "\n",
        "    return distances\n",
        "\n",
        "graph = {\n",
        "    0: [(1, 6), (2, 5)],\n",
        "    1: [(3, -1)],\n",
        "    2: [(1, -2), (3, 4)],\n",
        "    3: [],\n",
        "}\n",
        "source = 0\n",
        "print(bellman_ford(graph, source))\n"
      ],
      "metadata": {
        "colab": {
          "base_uri": "https://localhost:8080/"
        },
        "id": "iWhQYZkrF5Vv",
        "outputId": "73a4727c-f61f-4376-9651-6ac60f7fd0bb"
      },
      "execution_count": 6,
      "outputs": [
        {
          "output_type": "stream",
          "name": "stdout",
          "text": [
            "[0, 3, 5, 2]\n"
          ]
        }
      ]
    },
    {
      "cell_type": "code",
      "source": [
        "def merge_sort(arr):\n",
        "    if len(arr) <= 1:\n",
        "        return arr\n",
        "\n",
        "    mid = len(arr) // 2\n",
        "    left_half = arr[:mid]\n",
        "    right_half = arr[mid:]\n",
        "\n",
        "    left_half = merge_sort(left_half)\n",
        "    right_half = merge_sort(right_half)\n",
        "\n",
        "    return merge(left_half, right_half)\n",
        "\n",
        "def merge(left, right):\n",
        "    result = []\n",
        "    i, j = 0, 0\n",
        "\n",
        "    while i < len(left) and j < len(right):\n",
        "        if left[i] < right[j]:\n",
        "            result.append(left[i])\n",
        "            i += 1\n",
        "        else:\n",
        "            result.append(right[j])\n",
        "            j += 1\n",
        "\n",
        "    result.extend(left[i:])\n",
        "    result.extend(right[j:])\n",
        "\n",
        "    return result\n",
        "\n",
        "# Ejemplo de uso\n",
        "unsorted_list = [38, 27, 43, 3, 9, 82, 10]\n",
        "sorted_list = merge_sort(unsorted_list)\n",
        "print(sorted_list)\n"
      ],
      "metadata": {
        "colab": {
          "base_uri": "https://localhost:8080/"
        },
        "id": "7esaOnrwV62n",
        "outputId": "b3dc22d3-fa91-43f8-f1b0-9058c5505da5"
      },
      "execution_count": 7,
      "outputs": [
        {
          "output_type": "stream",
          "name": "stdout",
          "text": [
            "[3, 9, 10, 27, 38, 43, 82]\n"
          ]
        }
      ]
    }
  ]
}